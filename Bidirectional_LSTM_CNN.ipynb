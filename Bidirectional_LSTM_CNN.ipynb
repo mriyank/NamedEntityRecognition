{
  "nbformat": 4,
  "nbformat_minor": 0,
  "metadata": {
    "colab": {
      "name": "Bidirectional LSTM-CNN.ipynb",
      "provenance": [],
      "authorship_tag": "ABX9TyOlxo6igsm4jqmeIbi/6qbw",
      "include_colab_link": true
    },
    "kernelspec": {
      "name": "python3",
      "display_name": "Python 3"
    },
    "language_info": {
      "name": "python"
    },
    "accelerator": "GPU"
  },
  "cells": [
    {
      "cell_type": "markdown",
      "metadata": {
        "id": "view-in-github",
        "colab_type": "text"
      },
      "source": [
        "<a href=\"https://colab.research.google.com/github/mriyank/NamedEntityRecognition_LSTM_CNN/blob/main/Bidirectional_LSTM_CNN.ipynb\" target=\"_parent\"><img src=\"https://colab.research.google.com/assets/colab-badge.svg\" alt=\"Open In Colab\"/></a>"
      ]
    },
    {
      "cell_type": "code",
      "metadata": {
        "colab": {
          "base_uri": "https://localhost:8080/"
        },
        "id": "6U-hR3UX5W28",
        "outputId": "e0e59a73-a68a-4efb-ef09-1e0c2dcfd598"
      },
      "source": [
        "%tensorflow_version 1.15\n",
        "import numpy as np\n",
        "import pandas as pd"
      ],
      "execution_count": null,
      "outputs": [
        {
          "output_type": "stream",
          "name": "stdout",
          "text": [
            "`%tensorflow_version` only switches the major version: 1.x or 2.x.\n",
            "You set: `1.15`. This will be interpreted as: `1.x`.\n",
            "\n",
            "\n",
            "TensorFlow 1.x selected.\n"
          ]
        }
      ]
    },
    {
      "cell_type": "code",
      "metadata": {
        "colab": {
          "base_uri": "https://localhost:8080/"
        },
        "id": "x0QAkLte8c6E",
        "outputId": "755c551a-4438-4539-c9e9-ee5f50d747fc"
      },
      "source": [
        "from google.colab import drive\n",
        "drive.mount('/content/gdrive')"
      ],
      "execution_count": null,
      "outputs": [
        {
          "output_type": "stream",
          "name": "stdout",
          "text": [
            "Mounted at /content/gdrive\n"
          ]
        }
      ]
    },
    {
      "cell_type": "code",
      "metadata": {
        "id": "yPWIgI2j9HpX"
      },
      "source": [
        "from google.colab import drive\n",
        "drive.mount('/content/drive')\n",
        "data = pd.read_csv(\"gdrive/MyDrive/NLP/dataset/ner_dataset.csv\", encoding=\"latin1\")"
      ],
      "execution_count": null,
      "outputs": []
    },
    {
      "cell_type": "code",
      "metadata": {
        "id": "n8-5t-ov9Bx_"
      },
      "source": [
        "data = data.fillna(method=\"ffill\")\n"
      ],
      "execution_count": null,
      "outputs": []
    },
    {
      "cell_type": "code",
      "metadata": {
        "colab": {
          "base_uri": "https://localhost:8080/",
          "height": 206
        },
        "id": "BbT7KWHG9rWc",
        "outputId": "3f0145fd-122c-4d18-c709-a5e9a7b9305e"
      },
      "source": [
        "data.tail(5)\n"
      ],
      "execution_count": null,
      "outputs": [
        {
          "output_type": "execute_result",
          "data": {
            "text/html": [
              "<div>\n",
              "<style scoped>\n",
              "    .dataframe tbody tr th:only-of-type {\n",
              "        vertical-align: middle;\n",
              "    }\n",
              "\n",
              "    .dataframe tbody tr th {\n",
              "        vertical-align: top;\n",
              "    }\n",
              "\n",
              "    .dataframe thead th {\n",
              "        text-align: right;\n",
              "    }\n",
              "</style>\n",
              "<table border=\"1\" class=\"dataframe\">\n",
              "  <thead>\n",
              "    <tr style=\"text-align: right;\">\n",
              "      <th></th>\n",
              "      <th>Sentence #</th>\n",
              "      <th>Word</th>\n",
              "      <th>POS</th>\n",
              "      <th>Tag</th>\n",
              "    </tr>\n",
              "  </thead>\n",
              "  <tbody>\n",
              "    <tr>\n",
              "      <th>1048570</th>\n",
              "      <td>Sentence: 47959</td>\n",
              "      <td>they</td>\n",
              "      <td>PRP</td>\n",
              "      <td>O</td>\n",
              "    </tr>\n",
              "    <tr>\n",
              "      <th>1048571</th>\n",
              "      <td>Sentence: 47959</td>\n",
              "      <td>responded</td>\n",
              "      <td>VBD</td>\n",
              "      <td>O</td>\n",
              "    </tr>\n",
              "    <tr>\n",
              "      <th>1048572</th>\n",
              "      <td>Sentence: 47959</td>\n",
              "      <td>to</td>\n",
              "      <td>TO</td>\n",
              "      <td>O</td>\n",
              "    </tr>\n",
              "    <tr>\n",
              "      <th>1048573</th>\n",
              "      <td>Sentence: 47959</td>\n",
              "      <td>the</td>\n",
              "      <td>DT</td>\n",
              "      <td>O</td>\n",
              "    </tr>\n",
              "    <tr>\n",
              "      <th>1048574</th>\n",
              "      <td>Sentence: 47959</td>\n",
              "      <td>attack</td>\n",
              "      <td>NN</td>\n",
              "      <td>O</td>\n",
              "    </tr>\n",
              "  </tbody>\n",
              "</table>\n",
              "</div>"
            ],
            "text/plain": [
              "              Sentence #       Word  POS Tag\n",
              "1048570  Sentence: 47959       they  PRP   O\n",
              "1048571  Sentence: 47959  responded  VBD   O\n",
              "1048572  Sentence: 47959         to   TO   O\n",
              "1048573  Sentence: 47959        the   DT   O\n",
              "1048574  Sentence: 47959     attack   NN   O"
            ]
          },
          "metadata": {},
          "execution_count": 9
        }
      ]
    },
    {
      "cell_type": "code",
      "metadata": {
        "colab": {
          "base_uri": "https://localhost:8080/"
        },
        "id": "ZrtKQ2rJ9xmA",
        "outputId": "f826a58f-0386-4e87-e98b-3fb4a4e5b0a4"
      },
      "source": [
        "words = list(set(data[\"Word\"].values))\n",
        "n_words = len(words); n_words\n"
      ],
      "execution_count": null,
      "outputs": [
        {
          "output_type": "execute_result",
          "data": {
            "text/plain": [
              "35178"
            ]
          },
          "metadata": {},
          "execution_count": 10
        }
      ]
    },
    {
      "cell_type": "code",
      "metadata": {
        "colab": {
          "base_uri": "https://localhost:8080/"
        },
        "id": "_bZWggvG99dH",
        "outputId": "33973b5e-717f-4536-916d-4da2422ac092"
      },
      "source": [
        "tags = list(set(data[\"Tag\"].values))\n",
        "n_tags = len(tags); n_tags\n"
      ],
      "execution_count": null,
      "outputs": [
        {
          "output_type": "execute_result",
          "data": {
            "text/plain": [
              "17"
            ]
          },
          "metadata": {},
          "execution_count": 11
        }
      ]
    },
    {
      "cell_type": "code",
      "metadata": {
        "id": "zf9mmnl0-C6w"
      },
      "source": [
        "class SentenceGetter(object):\n",
        "    \n",
        "    def __init__(self, data):\n",
        "        self.n_sent = 1\n",
        "        self.data = data\n",
        "        self.empty = False\n",
        "        agg_func = lambda s: [(w, p, t) for w, p, t in zip(s[\"Word\"].values.tolist(),\n",
        "                                                           s[\"POS\"].values.tolist(),\n",
        "                                                           s[\"Tag\"].values.tolist())]\n",
        "        self.grouped = self.data.groupby(\"Sentence #\").apply(agg_func)\n",
        "        self.sentences = [s for s in self.grouped]\n",
        "    \n",
        "    def get_next(self):\n",
        "        try:\n",
        "            s = self.grouped[\"Sentence: {}\".format(self.n_sent)]\n",
        "            self.n_sent += 1\n",
        "            return s\n",
        "        except:\n",
        "            return None\n"
      ],
      "execution_count": null,
      "outputs": []
    },
    {
      "cell_type": "code",
      "metadata": {
        "colab": {
          "base_uri": "https://localhost:8080/"
        },
        "id": "qqEHp7xd-FPt",
        "outputId": "1ef6b412-a36b-46a1-c5e5-eae692bc3cbb"
      },
      "source": [
        "getter = SentenceGetter(data)\n",
        "sent = getter.get_next()\n",
        "print(sent)\n"
      ],
      "execution_count": null,
      "outputs": [
        {
          "output_type": "stream",
          "name": "stdout",
          "text": [
            "[('Thousands', 'NNS', 'O'), ('of', 'IN', 'O'), ('demonstrators', 'NNS', 'O'), ('have', 'VBP', 'O'), ('marched', 'VBN', 'O'), ('through', 'IN', 'O'), ('London', 'NNP', 'B-geo'), ('to', 'TO', 'O'), ('protest', 'VB', 'O'), ('the', 'DT', 'O'), ('war', 'NN', 'O'), ('in', 'IN', 'O'), ('Iraq', 'NNP', 'B-geo'), ('and', 'CC', 'O'), ('demand', 'VB', 'O'), ('the', 'DT', 'O'), ('withdrawal', 'NN', 'O'), ('of', 'IN', 'O'), ('British', 'JJ', 'B-gpe'), ('troops', 'NNS', 'O'), ('from', 'IN', 'O'), ('that', 'DT', 'O'), ('country', 'NN', 'O'), ('.', '.', 'O')]\n"
          ]
        }
      ]
    },
    {
      "cell_type": "code",
      "metadata": {
        "id": "q5D2-_BV-QWC"
      },
      "source": [
        "sentences = getter.sentences\n"
      ],
      "execution_count": null,
      "outputs": []
    },
    {
      "cell_type": "code",
      "metadata": {
        "id": "sAn_Y-xc-fi2"
      },
      "source": [
        "max_len = 75\n",
        "max_len_char = 10\n"
      ],
      "execution_count": null,
      "outputs": []
    },
    {
      "cell_type": "code",
      "metadata": {
        "id": "AHfjeAmc-hGR"
      },
      "source": [
        "word2idx = {w: i + 2 for i, w in enumerate(words)}\n",
        "word2idx[\"UNK\"] = 1\n",
        "word2idx[\"PAD\"] = 0\n",
        "idx2word = {i: w for w, i in word2idx.items()}\n",
        "tag2idx = {t: i + 1 for i, t in enumerate(tags)}\n",
        "tag2idx[\"PAD\"] = 0\n",
        "idx2tag = {i: w for w, i in tag2idx.items()}\n"
      ],
      "execution_count": null,
      "outputs": []
    },
    {
      "cell_type": "code",
      "metadata": {
        "colab": {
          "base_uri": "https://localhost:8080/"
        },
        "id": "f6UUAGJg-kOR",
        "outputId": "571dc764-1916-41f2-f2bc-86eb27579972"
      },
      "source": [
        "print(word2idx[\"Obama\"])\n",
        "print(tag2idx[\"B-geo\"])\n"
      ],
      "execution_count": null,
      "outputs": [
        {
          "output_type": "stream",
          "name": "stdout",
          "text": [
            "30780\n",
            "16\n"
          ]
        }
      ]
    },
    {
      "cell_type": "code",
      "metadata": {
        "colab": {
          "base_uri": "https://localhost:8080/"
        },
        "id": "YMt5VnNs-nhD",
        "outputId": "9a25100b-dc80-4c48-d5f4-a7026cc404c2"
      },
      "source": [
        "from keras.preprocessing.sequence import pad_sequences\n",
        "X_word = [[word2idx[w[0]] for w in s] for s in sentences]\n"
      ],
      "execution_count": null,
      "outputs": [
        {
          "output_type": "stream",
          "name": "stderr",
          "text": [
            "Using TensorFlow backend.\n"
          ]
        }
      ]
    },
    {
      "cell_type": "code",
      "metadata": {
        "id": "S4IWrExS-rtD"
      },
      "source": [
        "X_word = pad_sequences(maxlen=max_len, sequences=X_word, value=word2idx[\"PAD\"], padding='post', truncating='post')\n"
      ],
      "execution_count": null,
      "outputs": []
    },
    {
      "cell_type": "code",
      "metadata": {
        "colab": {
          "base_uri": "https://localhost:8080/"
        },
        "id": "YQnwUICz-v5i",
        "outputId": "aeee474a-c36e-4c2e-8bd7-bb19c7b3bdc5"
      },
      "source": [
        "chars = set([w_i for w in words for w_i in w])\n",
        "n_chars = len(chars)\n",
        "print(n_chars)\n"
      ],
      "execution_count": null,
      "outputs": [
        {
          "output_type": "stream",
          "name": "stdout",
          "text": [
            "98\n"
          ]
        }
      ]
    },
    {
      "cell_type": "code",
      "metadata": {
        "id": "iwVSDTFc-z1G"
      },
      "source": [
        "char2idx = {c: i + 2 for i, c in enumerate(chars)}\n",
        "char2idx[\"UNK\"] = 1\n",
        "char2idx[\"PAD\"] = 0\n"
      ],
      "execution_count": null,
      "outputs": []
    },
    {
      "cell_type": "code",
      "metadata": {
        "id": "uK72fgYb-2FT"
      },
      "source": [
        "X_char = []\n",
        "for sentence in sentences:\n",
        "    sent_seq = []\n",
        "    for i in range(max_len):\n",
        "        word_seq = []\n",
        "        for j in range(max_len_char):\n",
        "            try:\n",
        "                word_seq.append(char2idx.get(sentence[i][0][j]))\n",
        "            except:\n",
        "                word_seq.append(char2idx.get(\"PAD\"))\n",
        "        sent_seq.append(word_seq)\n",
        "    X_char.append(np.array(sent_seq))\n"
      ],
      "execution_count": null,
      "outputs": []
    },
    {
      "cell_type": "code",
      "metadata": {
        "id": "Yj5Q4RD3-773"
      },
      "source": [
        "y = [[tag2idx[w[2]] for w in s] for s in sentences]\n"
      ],
      "execution_count": null,
      "outputs": []
    },
    {
      "cell_type": "code",
      "metadata": {
        "id": "HxRePJpb-94t"
      },
      "source": [
        "y = pad_sequences(maxlen=max_len, sequences=y, value=tag2idx[\"PAD\"], padding='post', truncating='post')\n"
      ],
      "execution_count": null,
      "outputs": []
    },
    {
      "cell_type": "code",
      "metadata": {
        "id": "45xfhWRw_Bkf"
      },
      "source": [
        "from sklearn.model_selection import train_test_split\n"
      ],
      "execution_count": null,
      "outputs": []
    },
    {
      "cell_type": "code",
      "metadata": {
        "id": "WZP5buGE_EDN"
      },
      "source": [
        "X_word_tr, X_word_te, y_tr, y_te = train_test_split(X_word, y, test_size=0.1, random_state=2018)\n",
        "X_char_tr, X_char_te, _, _ = train_test_split(X_char, y, test_size=0.1, random_state=2018)\n"
      ],
      "execution_count": null,
      "outputs": []
    },
    {
      "cell_type": "code",
      "metadata": {
        "id": "LgwpzaOw_Fy_"
      },
      "source": [
        "from keras.models import Model, Input\n",
        "from keras.layers import LSTM, Embedding, Dense, TimeDistributed, Dropout, Conv1D\n",
        "from keras.layers import Bidirectional, concatenate, SpatialDropout1D, GlobalMaxPooling1D\n"
      ],
      "execution_count": null,
      "outputs": []
    },
    {
      "cell_type": "code",
      "metadata": {
        "colab": {
          "base_uri": "https://localhost:8080/"
        },
        "id": "crOmsDyO_L9C",
        "outputId": "20a03459-eadc-41bb-99a3-f110c8ce1a91"
      },
      "source": [
        "# input and embedding for words\n",
        "word_in = Input(shape=(max_len,))\n",
        "emb_word = Embedding(input_dim=n_words + 2, output_dim=20,\n",
        "                     input_length=max_len, mask_zero=True)(word_in)\n",
        "\n",
        "# input and embeddings for characters\n",
        "char_in = Input(shape=(max_len, max_len_char,))\n",
        "emb_char = TimeDistributed(Embedding(input_dim=n_chars + 2, output_dim=10,\n",
        "                           input_length=max_len_char, mask_zero=True))(char_in)\n",
        "# character LSTM to get word encodings by characters\n",
        "char_enc = TimeDistributed(LSTM(units=20, return_sequences=False,\n",
        "                                recurrent_dropout=0.5))(emb_char)\n",
        "\n",
        "# main LSTM\n",
        "x = concatenate([emb_word, char_enc])\n",
        "x = SpatialDropout1D(0.3)(x)\n",
        "main_lstm = Bidirectional(LSTM(units=50, return_sequences=True,\n",
        "                               recurrent_dropout=0.6))(x)\n",
        "out = TimeDistributed(Dense(n_tags + 1, activation=\"sigmoid\"))(main_lstm)\n",
        "\n",
        "model = Model([word_in, char_in], out)\n"
      ],
      "execution_count": null,
      "outputs": [
        {
          "output_type": "stream",
          "name": "stdout",
          "text": [
            "WARNING:tensorflow:From /tensorflow-1.15.2/python3.7/tensorflow_core/python/ops/resource_variable_ops.py:1630: calling BaseResourceVariable.__init__ (from tensorflow.python.ops.resource_variable_ops) with constraint is deprecated and will be removed in a future version.\n",
            "Instructions for updating:\n",
            "If using Keras pass *_constraint arguments to layers.\n",
            "WARNING:tensorflow:From /tensorflow-1.15.2/python3.7/tensorflow_core/python/keras/backend.py:3994: where (from tensorflow.python.ops.array_ops) is deprecated and will be removed in a future version.\n",
            "Instructions for updating:\n",
            "Use tf.where in 2.0, which has the same broadcast rule as np.where\n",
            "WARNING:tensorflow:Large dropout rate: 0.6 (>0.5). In TensorFlow 2.x, dropout() uses dropout rate instead of keep_prob. Please ensure that this is intended.\n",
            "WARNING:tensorflow:Large dropout rate: 0.6 (>0.5). In TensorFlow 2.x, dropout() uses dropout rate instead of keep_prob. Please ensure that this is intended.\n",
            "WARNING:tensorflow:Large dropout rate: 0.6 (>0.5). In TensorFlow 2.x, dropout() uses dropout rate instead of keep_prob. Please ensure that this is intended.\n",
            "WARNING:tensorflow:Large dropout rate: 0.6 (>0.5). In TensorFlow 2.x, dropout() uses dropout rate instead of keep_prob. Please ensure that this is intended.\n",
            "WARNING:tensorflow:Large dropout rate: 0.6 (>0.5). In TensorFlow 2.x, dropout() uses dropout rate instead of keep_prob. Please ensure that this is intended.\n"
          ]
        }
      ]
    },
    {
      "cell_type": "code",
      "metadata": {
        "id": "yK8RYtXx_Qu7"
      },
      "source": [
        "model.compile(optimizer=\"adam\", loss=\"sparse_categorical_crossentropy\", metrics=[\"acc\"])\n"
      ],
      "execution_count": null,
      "outputs": []
    },
    {
      "cell_type": "code",
      "metadata": {
        "colab": {
          "base_uri": "https://localhost:8080/"
        },
        "id": "nzMU2Zf3_Ud1",
        "outputId": "a01b9f8a-8bdf-4562-ddc5-fe52094f251f"
      },
      "source": [
        "model.summary()\n"
      ],
      "execution_count": null,
      "outputs": [
        {
          "output_type": "stream",
          "name": "stdout",
          "text": [
            "Model: \"model_1\"\n",
            "__________________________________________________________________________________________________\n",
            "Layer (type)                    Output Shape         Param #     Connected to                     \n",
            "==================================================================================================\n",
            "input_2 (InputLayer)            (None, 75, 10)       0                                            \n",
            "__________________________________________________________________________________________________\n",
            "input_1 (InputLayer)            (None, 75)           0                                            \n",
            "__________________________________________________________________________________________________\n",
            "time_distributed_1 (TimeDistrib (None, 75, 10, 10)   1000        input_2[0][0]                    \n",
            "__________________________________________________________________________________________________\n",
            "embedding_1 (Embedding)         (None, 75, 20)       703600      input_1[0][0]                    \n",
            "__________________________________________________________________________________________________\n",
            "time_distributed_2 (TimeDistrib (None, 75, 20)       2480        time_distributed_1[0][0]         \n",
            "__________________________________________________________________________________________________\n",
            "concatenate_1 (Concatenate)     (None, 75, 40)       0           embedding_1[0][0]                \n",
            "                                                                 time_distributed_2[0][0]         \n",
            "__________________________________________________________________________________________________\n",
            "spatial_dropout1d_1 (SpatialDro (None, 75, 40)       0           concatenate_1[0][0]              \n",
            "__________________________________________________________________________________________________\n",
            "bidirectional_1 (Bidirectional) (None, 75, 100)      36400       spatial_dropout1d_1[0][0]        \n",
            "__________________________________________________________________________________________________\n",
            "time_distributed_3 (TimeDistrib (None, 75, 18)       1818        bidirectional_1[0][0]            \n",
            "==================================================================================================\n",
            "Total params: 745,298\n",
            "Trainable params: 745,298\n",
            "Non-trainable params: 0\n",
            "__________________________________________________________________________________________________\n"
          ]
        }
      ]
    },
    {
      "cell_type": "code",
      "metadata": {
        "colab": {
          "base_uri": "https://localhost:8080/"
        },
        "id": "UtlKU_Yl_XYq",
        "outputId": "45002c0d-439b-477f-8f5b-e471c83d3cde"
      },
      "source": [
        "history = model.fit([X_word_tr,\n",
        "                     np.array(X_char_tr).reshape((len(X_char_tr), max_len, max_len_char))],\n",
        "                    np.array(y_tr).reshape(len(y_tr), max_len, 1),\n",
        "                    batch_size=32, epochs=10, validation_split=0.1, verbose=1)\n"
      ],
      "execution_count": null,
      "outputs": [
        {
          "output_type": "stream",
          "name": "stdout",
          "text": [
            "WARNING:tensorflow:From /tensorflow-1.15.2/python3.7/keras/backend/tensorflow_backend.py:422: The name tf.global_variables is deprecated. Please use tf.compat.v1.global_variables instead.\n",
            "\n",
            "Train on 38846 samples, validate on 4317 samples\n",
            "Epoch 1/10\n",
            "38846/38846 [==============================] - 391s 10ms/step - loss: 0.1493 - acc: 0.8522 - val_loss: 0.0746 - val_acc: 0.9100\n",
            "Epoch 2/10\n",
            "38846/38846 [==============================] - 393s 10ms/step - loss: 0.0557 - acc: 0.9403 - val_loss: 0.0423 - val_acc: 0.9587\n",
            "Epoch 3/10\n",
            "38846/38846 [==============================] - 393s 10ms/step - loss: 0.0372 - acc: 0.9637 - val_loss: 0.0352 - val_acc: 0.9648\n",
            "Epoch 4/10\n",
            "38846/38846 [==============================] - 393s 10ms/step - loss: 0.0314 - acc: 0.9687 - val_loss: 0.0328 - val_acc: 0.9666\n",
            "Epoch 5/10\n",
            "38846/38846 [==============================] - 394s 10ms/step - loss: 0.0282 - acc: 0.9711 - val_loss: 0.0315 - val_acc: 0.9674\n",
            "Epoch 6/10\n",
            "38846/38846 [==============================] - 396s 10ms/step - loss: 0.0261 - acc: 0.9728 - val_loss: 0.0312 - val_acc: 0.9674\n",
            "Epoch 7/10\n",
            "38846/38846 [==============================] - 397s 10ms/step - loss: 0.0245 - acc: 0.9741 - val_loss: 0.0303 - val_acc: 0.9684\n",
            "Epoch 8/10\n",
            "38846/38846 [==============================] - 399s 10ms/step - loss: 0.0231 - acc: 0.9753 - val_loss: 0.0303 - val_acc: 0.9689\n",
            "Epoch 9/10\n",
            "38846/38846 [==============================] - 399s 10ms/step - loss: 0.0221 - acc: 0.9763 - val_loss: 0.0300 - val_acc: 0.9689\n",
            "Epoch 10/10\n",
            "38846/38846 [==============================] - 399s 10ms/step - loss: 0.0213 - acc: 0.9770 - val_loss: 0.0299 - val_acc: 0.9692\n"
          ]
        }
      ]
    },
    {
      "cell_type": "code",
      "metadata": {
        "id": "3Ugvk-iK_aEL"
      },
      "source": [
        "hist = pd.DataFrame(history.history)\n"
      ],
      "execution_count": null,
      "outputs": []
    },
    {
      "cell_type": "code",
      "metadata": {
        "colab": {
          "base_uri": "https://localhost:8080/",
          "height": 700
        },
        "id": "6bX5NEg-_bte",
        "outputId": "3e57d572-6132-400d-b3b4-8a302e4d0666"
      },
      "source": [
        "import matplotlib.pyplot as plt\n",
        "plt.style.use(\"ggplot\")\n",
        "plt.figure(figsize=(12,12))\n",
        "plt.plot(hist[\"acc\"])\n",
        "plt.plot(hist[\"val_acc\"])\n",
        "plt.show()\n"
      ],
      "execution_count": null,
      "outputs": [
        {
          "output_type": "display_data",
          "data": {
            "image/png": "[encoded data removed]",
            "text/plain": [
              "<Figure size 864x864 with 1 Axes>"
            ]
          },
          "metadata": {}
        }
      ]
    },
    {
      "cell_type": "code",
      "metadata": {
        "id": "jfqDk1lA_02F"
      },
      "source": [
        "y_pred = model.predict([X_word_te,\n",
        "                        np.array(X_char_te).reshape((len(X_char_te),\n",
        "                                                     max_len, max_len_char))])\n"
      ],
      "execution_count": null,
      "outputs": []
    },
    {
      "cell_type": "code",
      "metadata": {
        "colab": {
          "base_uri": "https://localhost:8080/"
        },
        "id": "wNyvfj-c_2Gb",
        "outputId": "ff09f60b-89b7-4029-949d-eb610a5869be"
      },
      "source": [
        "i = 1925\n",
        "p = np.argmax(y_pred[i], axis=-1)\n",
        "print(\"{:15}||{:5}||{}\".format(\"Word\", \"True\", \"Pred\"))\n",
        "print(30 * \"=\")\n",
        "for w, t, pred in zip(X_word_te[i], y_te[i], p):\n",
        "    if w != 0:\n",
        "        print(\"{:15}: {:5} {}\".format(idx2word[w], idx2tag[t], idx2tag[pred]))\n"
      ],
      "execution_count": null,
      "outputs": [
        {
          "output_type": "stream",
          "name": "stdout",
          "text": [
            "Word           ||True ||Pred\n",
            "==============================\n",
            "On             : O     O\n",
            "Monday         : B-tim B-tim\n",
            ",              : O     O\n",
            "British        : B-org B-gpe\n",
            "Foreign        : I-org O\n",
            "Secretary      : B-per B-per\n",
            "Jack           : I-per B-per\n",
            "Straw          : I-per I-per\n",
            "said           : O     O\n",
            "his            : O     O\n",
            "government     : O     O\n",
            "has            : O     O\n",
            "found          : O     O\n",
            "no             : O     O\n",
            "evidence       : O     O\n",
            "the            : O     O\n",
            "Bush           : B-org B-per\n",
            "administration : O     O\n",
            "requested      : O     O\n",
            "permission     : O     O\n",
            "to             : O     O\n",
            "fly            : O     O\n",
            "terror         : O     O\n",
            "suspects       : O     O\n",
            "through        : O     O\n",
            "Britain        : B-geo B-geo\n",
            "or             : O     O\n",
            "its            : O     O\n",
            "airspace       : O     O\n",
            ".              : O     O\n"
          ]
        }
      ]
    }
  ]
}